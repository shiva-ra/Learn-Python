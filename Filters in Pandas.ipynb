{
 "cells": [
  {
   "cell_type": "code",
   "execution_count": 1,
   "metadata": {},
   "outputs": [],
   "source": [
    "import pandas as pd\n",
    "import numpy as np"
   ]
  },
  {
   "cell_type": "code",
   "execution_count": 2,
   "metadata": {},
   "outputs": [],
   "source": [
    "a = pd.read_excel(r'C:\\Users\\Shiva Ramnathan\\Desktop\\Learning Python\\1-12-2020.xlsx')\n",
    "b = pd.read_excel(r'C:\\Users\\Shiva Ramnathan\\Desktop\\Learning Python\\59787722.xlsx')\n",
    "\n",
    "#2 OrderUnit: EA CA PK -> BaseUnit EA"
   ]
  },
  {
   "cell_type": "code",
   "execution_count": 3,
   "metadata": {},
   "outputs": [
    {
     "data": {
      "text/plain": [
       "Index(['PLATFORM ANALYST', 'ITMREQNUM', 'STATUS', 'REQTYPE', 'ITEMNUM',\n",
       "       'DESCRIPTION', 'SITEID', 'LOCATION', 'ORGID', 'MANUFACTURER',\n",
       "       'MODELNUM', 'VENDOR', 'CATALOGCODE', 'CLASSSTRUCTUREID', 'COMMODITY',\n",
       "       'COMMODITYGROUP', 'POTENTIALDUPEFG', 'AUTOEXTEND', 'CATEGORY',\n",
       "       'DESIGNATION', 'ORDERUNIT', 'ISSUEUNIT', 'SAP_BASEUNIT', 'REQUESTER',\n",
       "       'SUBMITER', 'GMDMANALYST', 'REQUESTDATE', 'SUBMITDATE', 'INPROGDATE',\n",
       "       'ABCTYPE', 'BINNUM', 'CCF', 'CONVERSION', 'DELIVERYTIME',\n",
       "       'INVSEARCHTEXT', 'MAXLEVEL', 'MINLEVEL', 'PROJECT', 'QTY_INCREMENT',\n",
       "       'QUOTEDPRICE', 'QUOTENUM', 'REMARKS', 'SAP_BASECODE', 'SAP_DESCRIPTION',\n",
       "       'ORDERQTY', 'REORDER'],\n",
       "      dtype='object')"
      ]
     },
     "execution_count": 3,
     "metadata": {},
     "output_type": "execute_result"
    }
   ],
   "source": [
    "a.columns"
   ]
  },
  {
   "cell_type": "code",
   "execution_count": 4,
   "metadata": {},
   "outputs": [],
   "source": [
    "#checklist 1\n",
    "\n",
    "abbr = list(b['Unit of Measure'])\n",
    "\n",
    "indexes = {}\n",
    "\n",
    "indexes['ORDERUNIT'] = list(a.index[~a['ORDERUNIT'].isin(abbr)])\n",
    "indexes['ISSUEUNIT'] = list(a.index[~a['ISSUEUNIT'].isin(abbr)])"
   ]
  },
  {
   "cell_type": "code",
   "execution_count": 5,
   "metadata": {},
   "outputs": [],
   "source": [
    "#checklist 3\n",
    "\n",
    "x = a[a['ORDERUNIT'] == a['ISSUEUNIT']]\n",
    "y = a[a['ORDERUNIT'] != a['ISSUEUNIT']]\n",
    "\n",
    "indexes['CONVERSION'] = list(x.index[x['CONVERSION'] != 1])\n",
    "indexes['CONVERSION'] += list(y.index[y['CONVERSION'] == 1])"
   ]
  },
  {
   "cell_type": "code",
   "execution_count": 6,
   "metadata": {},
   "outputs": [],
   "source": [
    "#checklist 4\n",
    "\n",
    "a['ORDERQTY'] = a['ORDERQTY'].fillna(0)\n",
    "\n",
    "\n",
    "indexes['ORDERQTY'] = list(a.index[a['ORDERQTY'] == 0])"
   ]
  },
  {
   "cell_type": "code",
   "execution_count": 7,
   "metadata": {},
   "outputs": [],
   "source": [
    "#checklist 5\n",
    "\n",
    "z = a[a['MAXLEVEL'] == 0]\n",
    "indexes['BINNUM'] = list(z.index[z['BINNUM'] != 'NS'])\n",
    "indexes['REORDER'] = list(z.index[z['REORDER'] != 0])"
   ]
  },
  {
   "cell_type": "code",
   "execution_count": 8,
   "metadata": {},
   "outputs": [],
   "source": [
    "#checklist 6\n",
    "indexes['AUTOEXTEND'] = list(a.index[a['AUTOEXTEND'] != 1])"
   ]
  },
  {
   "cell_type": "code",
   "execution_count": 9,
   "metadata": {},
   "outputs": [],
   "source": [
    "#checklist 7\n",
    "\n",
    "indexes['MAXLEVEL'] = list(a.index[(a['MAXLEVEL'] == a['MINLEVEL']) & (a['MAXLEVEL'] != 0)])\n",
    "indexes['MINLEVEL'] = indexes['MAXLEVEL']"
   ]
  },
  {
   "cell_type": "code",
   "execution_count": 10,
   "metadata": {},
   "outputs": [],
   "source": [
    "#checklist 8\n",
    "\n",
    "indexes['VENDOR'] = list(a.index[(a['VENDOR'].str.len() != 6) | (~a['VENDOR'].str.startswith('2'))])"
   ]
  },
  {
   "cell_type": "code",
   "execution_count": 11,
   "metadata": {},
   "outputs": [],
   "source": [
    "#checklist 9\n",
    "\n",
    "indexes['MANUFACTURER'] = list(a.index[~a['MANUFACTURER'].str.startswith('M-')])"
   ]
  },
  {
   "cell_type": "code",
   "execution_count": 12,
   "metadata": {},
   "outputs": [
    {
     "data": {
      "text/plain": [
       "{'ORDERUNIT': [50],\n",
       " 'ISSUEUNIT': [67, 69],\n",
       " 'CONVERSION': [50, 67, 69],\n",
       " 'ORDERQTY': [34, 50],\n",
       " 'BINNUM': [79, 82],\n",
       " 'REORDER': [],\n",
       " 'AUTOEXTEND': [79, 82, 93],\n",
       " 'MAXLEVEL': [],\n",
       " 'MINLEVEL': [],\n",
       " 'VENDOR': [34, 82],\n",
       " 'MANUFACTURER': [20, 21, 22, 32, 33, 72, 77, 80, 82, 85, 86, 99, 101]}"
      ]
     },
     "execution_count": 12,
     "metadata": {},
     "output_type": "execute_result"
    }
   ],
   "source": [
    "indexes"
   ]
  },
  {
   "cell_type": "code",
   "execution_count": 13,
   "metadata": {
    "scrolled": true
   },
   "outputs": [],
   "source": [
    "# Custom function to color the desired cell\n",
    "def styling_specific_cell(x, indexes):\n",
    "    color = 'background-color: red'\n",
    "    \n",
    "    df_styler = pd.DataFrame('', index=x.index, columns=x.columns)\n",
    "    \n",
    "    for k, v in indexes.items():\n",
    "        for i in v:\n",
    "            df_styler.loc[i, k] = color\n",
    "        \n",
    "    return df_styler\n",
    "\n",
    "\n",
    "# Pass the row and column index as kwargs\n",
    "c = a.style.apply(styling_specific_cell, indexes = indexes, axis = None)"
   ]
  },
  {
   "cell_type": "code",
   "execution_count": null,
   "metadata": {},
   "outputs": [],
   "source": [
    "c.to_excel(r'C:\\Users\\Shiva Ramnathan\\Desktop\\Learning Python\\1-12-2020_highlights.xlsx', index=False)"
   ]
  },
  {
   "cell_type": "code",
   "execution_count": null,
   "metadata": {},
   "outputs": [],
   "source": [
    "import pandas as pd\n",
    "import numpy as np\n",
    "\n",
    "a = pd.read_excel(r'C:\\Users\\Shiva Ramnathan\\Desktop\\Learning Python\\1-12-2020.xlsx')\n",
    "b = pd.read_excel(r'C:\\Users\\Shiva Ramnathan\\Desktop\\Learning Python\\59787722.xlsx')\n",
    "\n",
    "#2 OrderUnit: EA CA PK -> BaseUnit EA\n",
    "\n",
    "a.columns\n",
    "\n",
    "#checklist 1\n",
    "\n",
    "abbr = list(b['Unit of Measure'])\n",
    "\n",
    "indexes = {}\n",
    "\n",
    "indexes['ORDERUNIT'] = list(np.where(~a['ORDERUNIT'].isin(abbr))[0])\n",
    "indexes['ISSUEUNIT'] = list(np.where(~a['ISSUEUNIT'].isin(abbr))[0])\n",
    "\n",
    "#checklist 3\n",
    "\n",
    "x = a[a['ORDERUNIT'] == a['ISSUEUNIT']]\n",
    "y = a[a['ORDERUNIT'] != a['ISSUEUNIT']]\n",
    "\n",
    "indexes['CONVERSION'] = list(x.index[x['CONVERSION'] != 1])\n",
    "indexes['CONVERSION'] += list(y.index[y['CONVERSION'] == 1])\n",
    "\n",
    "#checklist 4\n",
    "\n",
    "a['ORDERQTY'] = a['ORDERQTY'].fillna(0)\n",
    "indexes['ORDERQTY'] = list(a.index[a['ORDERQTY'] == 0])\n",
    "\n",
    "#checklist 5\n",
    "\n",
    "z = a[a['MAXLEVEL'] == 0]\n",
    "indexes['BINNUM'] = list(z.index[z['BINNUM'] != 'NS'])\n",
    "indexes['REORDER'] = list(z.index[z['REORDER'] != 0])\n",
    "\n",
    "#checklist 6\n",
    "indexes['AUTOEXTEND'] = list(a.index[a['AUTOEXTEND'] != 1])\n",
    "\n",
    "#checklist 7\n",
    "\n",
    "indexes['MAXLEVEL'] = list(a.index[(a['MAXLEVEL'] == a['MINLEVEL']) & (a['MAXLEVEL'] != 0)])\n",
    "indexes['MINLEVEL'] = indexes['MAXLEVEL']\n",
    "\n",
    "#checklist 8\n",
    "\n",
    "indexes['VENDOR'] = list(a.index[(a['VENDOR'].str.len() != 6) | (~a['VENDOR'].str.startswith('2'))])\n",
    "\n",
    "#checklist 9\n",
    "\n",
    "indexes['MANUFACTURER'] = list(a.index[~a['MANUFACTURER'].str.startswith('M-')])\n",
    "\n",
    "indexes\n",
    "\n",
    "# Custom function to color the desired cell\n",
    "def styling_specific_cell(x, indexes):\n",
    "    color = 'background-color: red'\n",
    "    \n",
    "    df_styler = pd.DataFrame('', index=x.index, columns=x.columns)\n",
    "    \n",
    "    for k, v in indexes.items():\n",
    "        for i in v:\n",
    "            df_styler.loc[i, k] = color\n",
    "        \n",
    "    return df_styler\n",
    "\n",
    "\n",
    "# Pass the row and column index as kwargs\n",
    "c = a.style.apply(styling_specific_cell, indexes = indexes, axis = None)\n",
    "\n",
    "c.to_excel(r'C:\\Users\\Shiva Ramnathan\\Desktop\\Learning Python\\1-12-2020_highlights.xlsx', index=False)\n"
   ]
  }
 ],
 "metadata": {
  "kernelspec": {
   "display_name": "Python 3",
   "language": "python",
   "name": "python3"
  },
  "language_info": {
   "codemirror_mode": {
    "name": "ipython",
    "version": 3
   },
   "file_extension": ".py",
   "mimetype": "text/x-python",
   "name": "python",
   "nbconvert_exporter": "python",
   "pygments_lexer": "ipython3",
   "version": "3.7.6"
  }
 },
 "nbformat": 4,
 "nbformat_minor": 4
}
